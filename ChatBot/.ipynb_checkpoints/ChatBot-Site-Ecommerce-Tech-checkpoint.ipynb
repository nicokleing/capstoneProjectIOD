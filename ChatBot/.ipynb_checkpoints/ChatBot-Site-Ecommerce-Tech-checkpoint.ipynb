{
 "cells": [
  {
   "cell_type": "markdown",
   "id": "70218fcf",
   "metadata": {},
   "source": [
    "# Tunning ChatBot"
   ]
  },
  {
   "cell_type": "code",
   "execution_count": 126,
   "id": "2a002d2c",
   "metadata": {},
   "outputs": [
    {
     "name": "stdout",
     "output_type": "stream",
     "text": [
      "Requirement already satisfied: openai in c:\\users\\nicol\\anaconda3\\lib\\site-packages (1.35.14)\n",
      "Requirement already satisfied: anyio<5,>=3.5.0 in c:\\users\\nicol\\anaconda3\\lib\\site-packages (from openai) (3.5.0)\n",
      "Requirement already satisfied: distro<2,>=1.7.0 in c:\\users\\nicol\\anaconda3\\lib\\site-packages (from openai) (1.9.0)\n",
      "Requirement already satisfied: httpx<1,>=0.23.0 in c:\\users\\nicol\\anaconda3\\lib\\site-packages (from openai) (0.27.0)\n",
      "Requirement already satisfied: pydantic<3,>=1.9.0 in c:\\users\\nicol\\anaconda3\\lib\\site-packages (from openai) (1.10.8)\n",
      "Requirement already satisfied: sniffio in c:\\users\\nicol\\anaconda3\\lib\\site-packages (from openai) (1.2.0)\n",
      "Requirement already satisfied: tqdm>4 in c:\\users\\nicol\\anaconda3\\lib\\site-packages (from openai) (4.65.0)\n",
      "Requirement already satisfied: typing-extensions<5,>=4.7 in c:\\users\\nicol\\anaconda3\\lib\\site-packages (from openai) (4.7.1)\n",
      "Requirement already satisfied: idna>=2.8 in c:\\users\\nicol\\anaconda3\\lib\\site-packages (from anyio<5,>=3.5.0->openai) (3.4)\n",
      "Requirement already satisfied: certifi in c:\\users\\nicol\\anaconda3\\lib\\site-packages (from httpx<1,>=0.23.0->openai) (2024.2.2)\n",
      "Requirement already satisfied: httpcore==1.* in c:\\users\\nicol\\anaconda3\\lib\\site-packages (from httpx<1,>=0.23.0->openai) (1.0.5)\n",
      "Requirement already satisfied: h11<0.15,>=0.13 in c:\\users\\nicol\\anaconda3\\lib\\site-packages (from httpcore==1.*->httpx<1,>=0.23.0->openai) (0.14.0)\n",
      "Requirement already satisfied: colorama in c:\\users\\nicol\\anaconda3\\lib\\site-packages (from tqdm>4->openai) (0.4.6)\n",
      "Note: you may need to restart the kernel to use updated packages.\n"
     ]
    }
   ],
   "source": [
    "pip install --upgrade openai\n"
   ]
  },
  {
   "cell_type": "code",
   "execution_count": 127,
   "id": "d29eeedc",
   "metadata": {},
   "outputs": [],
   "source": [
    "import pandas as pd\n",
    "import json\n",
    "\n",
    "data = {\n",
    "    \"prompt\": [\n",
    "        \"What is Web Development?\",\n",
    "        \"What does Mobile Application Development include?\",\n",
    "        \"What services do you offer in Machine Learning?\",\n",
    "        \"What is BI Consulting?\",\n",
    "        \"What is Social Media Marketing?\",\n",
    "        \"How can you help me with SEO?\",\n",
    "        \"What is Digital Transformation?\",\n",
    "        \"What services do you offer for Fintech?\",\n",
    "        \"What is Cloud Computing?\",\n",
    "        \"What are the benefits of using AI?\",\n",
    "        \"What is Big Data?\",\n",
    "        \"What is Data Analytics?\",\n",
    "        \"What is the Internet of Things (IoT)?\",\n",
    "        \"What is Blockchain Technology?\",\n",
    "        \"What is Cybersecurity?\",\n",
    "        \"What is DevOps?\",\n",
    "        \"What is Agile Methodology?\",\n",
    "        \"What is Edge Computing?\",\n",
    "        \"What is Quantum Computing?\",\n",
    "        \"What is Augmented Reality (AR)?\"\n",
    "    ],\n",
    "    \"completion\": [\n",
    "        \" Web Development includes creating and maintaining websites. This can involve web design, frontend and backend development, and search engine optimization (SEO). #####\",\n",
    "        \" Mobile Application Development includes creating applications for mobile devices, from user interface design to programming and testing. They are developed for platforms like iOS and Android. #####\",\n",
    "        \" We offer services such as Machine Learning Consulting, Model Implementation, and Predictive Analysis to help you make data-driven decisions. #####\",\n",
    "        \" BI (Business Intelligence) Consulting involves helping businesses use data and analysis to make informed decisions. It includes data visualization, BI implementation, and consulting services. #####\",\n",
    "        \" Social Media Marketing involves promoting products or services through social media platforms. This includes content creation, account management, and campaign analysis. #####\",\n",
    "        \" We can help with SEO by improving your website's visibility on search engines. This includes content optimization, keyword research, and link building. #####\",\n",
    "        \" Digital Transformation involves integrating digital technology into all areas of a business, fundamentally changing how you operate and deliver value to customers. #####\",\n",
    "        \" We offer specialized services for Fintech, including financial application development, security solutions implementation, and consulting in financial technologies. #####\",\n",
    "        \" Cloud Computing involves delivering computing services over the internet, including storage, processing power, and databases, among others. #####\",\n",
    "        \" The benefits of using AI include improved efficiency, automation of tasks, enhanced decision-making, and the ability to analyze large sets of data quickly. #####\",\n",
    "        \" Big Data refers to the large volume of data generated by businesses and organizations that can be analyzed for insights and decision-making. #####\",\n",
    "        \" Data Analytics involves examining data sets to draw conclusions about the information they contain, often with the aid of specialized software. #####\",\n",
    "        \" The Internet of Things (IoT) refers to the network of physical objects embedded with sensors and software to connect and exchange data with other devices and systems over the internet. #####\",\n",
    "        \" Blockchain Technology is a decentralized digital ledger used to record transactions across many computers securely. #####\",\n",
    "        \" Cybersecurity involves protecting systems, networks, and programs from digital attacks aimed at accessing, changing, or destroying sensitive information. #####\",\n",
    "        \" DevOps is a set of practices that combines software development (Dev) and IT operations (Ops) to shorten the development lifecycle and deliver high-quality software continuously. #####\",\n",
    "        \" Agile Methodology is an iterative approach to software development that emphasizes flexibility, collaboration, and customer satisfaction. #####\",\n",
    "        \" Edge Computing involves processing data near the data source rather than in a centralized data-processing warehouse, to reduce latency and bandwidth use. #####\",\n",
    "        \" Quantum Computing uses principles of quantum mechanics to perform computations more efficiently than traditional computers in certain tasks. #####\",\n",
    "        \" Augmented Reality (AR) overlays digital information on the real world, enhancing the user's perception of their environment. #####\"\n",
    "    ]\n",
    "}\n",
    "\n",
    "df = pd.DataFrame(data)\n",
    "formatted_data = []\n",
    "\n",
    "# Iterar sobre las filas del DataFrame\n",
    "for _, row in df.iterrows():\n",
    "    formatted_data.append({\n",
    "        \"messages\": [\n",
    "            {\"role\": \"system\", \"content\": \"You are a helpful and informative AI Assistant.\"}, \n",
    "            {\"role\": \"user\", \"content\": row['prompt']},  \n",
    "            {\"role\": \"assistant\", \"content\": row['completion'].rstrip(\"#####\")}  # Quita los \"#\" finales\n",
    "        ]\n",
    "    })\n",
    "\n",
    "# Escribe el archivo JSONL con el nuevo formato\n",
    "with open('tech_store_data.jsonl', 'w') as outfile:\n",
    "    for entry in formatted_data:\n",
    "        json.dump(entry, outfile)\n",
    "        outfile.write('\\n')\n"
   ]
  },
  {
   "cell_type": "code",
   "execution_count": 128,
   "id": "ad961c2d",
   "metadata": {},
   "outputs": [
    {
     "name": "stdout",
     "output_type": "stream",
     "text": [
      "{'messages': [{'role': 'system', 'content': 'You are a helpful and informative AI Assistant.'}, {'role': 'user', 'content': 'What is Web Development?'}, {'role': 'assistant', 'content': ' Web Development includes creating and maintaining websites. This can involve web design, frontend and backend development, and search engine optimization (SEO). '}]}\n",
      "{'messages': [{'role': 'system', 'content': 'You are a helpful and informative AI Assistant.'}, {'role': 'user', 'content': 'What does Mobile Application Development include?'}, {'role': 'assistant', 'content': ' Mobile Application Development includes creating applications for mobile devices, from user interface design to programming and testing. They are developed for platforms like iOS and Android. '}]}\n",
      "{'messages': [{'role': 'system', 'content': 'You are a helpful and informative AI Assistant.'}, {'role': 'user', 'content': 'What services do you offer in Machine Learning?'}, {'role': 'assistant', 'content': ' We offer services such as Machine Learning Consulting, Model Implementation, and Predictive Analysis to help you make data-driven decisions. '}]}\n",
      "{'messages': [{'role': 'system', 'content': 'You are a helpful and informative AI Assistant.'}, {'role': 'user', 'content': 'What is BI Consulting?'}, {'role': 'assistant', 'content': ' BI (Business Intelligence) Consulting involves helping businesses use data and analysis to make informed decisions. It includes data visualization, BI implementation, and consulting services. '}]}\n",
      "{'messages': [{'role': 'system', 'content': 'You are a helpful and informative AI Assistant.'}, {'role': 'user', 'content': 'What is Social Media Marketing?'}, {'role': 'assistant', 'content': ' Social Media Marketing involves promoting products or services through social media platforms. This includes content creation, account management, and campaign analysis. '}]}\n",
      "{'messages': [{'role': 'system', 'content': 'You are a helpful and informative AI Assistant.'}, {'role': 'user', 'content': 'How can you help me with SEO?'}, {'role': 'assistant', 'content': \" We can help with SEO by improving your website's visibility on search engines. This includes content optimization, keyword research, and link building. \"}]}\n",
      "{'messages': [{'role': 'system', 'content': 'You are a helpful and informative AI Assistant.'}, {'role': 'user', 'content': 'What is Digital Transformation?'}, {'role': 'assistant', 'content': ' Digital Transformation involves integrating digital technology into all areas of a business, fundamentally changing how you operate and deliver value to customers. '}]}\n",
      "{'messages': [{'role': 'system', 'content': 'You are a helpful and informative AI Assistant.'}, {'role': 'user', 'content': 'What services do you offer for Fintech?'}, {'role': 'assistant', 'content': ' We offer specialized services for Fintech, including financial application development, security solutions implementation, and consulting in financial technologies. '}]}\n",
      "{'messages': [{'role': 'system', 'content': 'You are a helpful and informative AI Assistant.'}, {'role': 'user', 'content': 'What is Cloud Computing?'}, {'role': 'assistant', 'content': ' Cloud Computing involves delivering computing services over the internet, including storage, processing power, and databases, among others. '}]}\n",
      "{'messages': [{'role': 'system', 'content': 'You are a helpful and informative AI Assistant.'}, {'role': 'user', 'content': 'What are the benefits of using AI?'}, {'role': 'assistant', 'content': ' The benefits of using AI include improved efficiency, automation of tasks, enhanced decision-making, and the ability to analyze large sets of data quickly. '}]}\n",
      "{'messages': [{'role': 'system', 'content': 'You are a helpful and informative AI Assistant.'}, {'role': 'user', 'content': 'What is Big Data?'}, {'role': 'assistant', 'content': ' Big Data refers to the large volume of data generated by businesses and organizations that can be analyzed for insights and decision-making. '}]}\n",
      "{'messages': [{'role': 'system', 'content': 'You are a helpful and informative AI Assistant.'}, {'role': 'user', 'content': 'What is Data Analytics?'}, {'role': 'assistant', 'content': ' Data Analytics involves examining data sets to draw conclusions about the information they contain, often with the aid of specialized software. '}]}\n",
      "{'messages': [{'role': 'system', 'content': 'You are a helpful and informative AI Assistant.'}, {'role': 'user', 'content': 'What is the Internet of Things (IoT)?'}, {'role': 'assistant', 'content': ' The Internet of Things (IoT) refers to the network of physical objects embedded with sensors and software to connect and exchange data with other devices and systems over the internet. '}]}\n",
      "{'messages': [{'role': 'system', 'content': 'You are a helpful and informative AI Assistant.'}, {'role': 'user', 'content': 'What is Blockchain Technology?'}, {'role': 'assistant', 'content': ' Blockchain Technology is a decentralized digital ledger used to record transactions across many computers securely. '}]}\n",
      "{'messages': [{'role': 'system', 'content': 'You are a helpful and informative AI Assistant.'}, {'role': 'user', 'content': 'What is Cybersecurity?'}, {'role': 'assistant', 'content': ' Cybersecurity involves protecting systems, networks, and programs from digital attacks aimed at accessing, changing, or destroying sensitive information. '}]}\n",
      "{'messages': [{'role': 'system', 'content': 'You are a helpful and informative AI Assistant.'}, {'role': 'user', 'content': 'What is DevOps?'}, {'role': 'assistant', 'content': ' DevOps is a set of practices that combines software development (Dev) and IT operations (Ops) to shorten the development lifecycle and deliver high-quality software continuously. '}]}\n",
      "{'messages': [{'role': 'system', 'content': 'You are a helpful and informative AI Assistant.'}, {'role': 'user', 'content': 'What is Agile Methodology?'}, {'role': 'assistant', 'content': ' Agile Methodology is an iterative approach to software development that emphasizes flexibility, collaboration, and customer satisfaction. '}]}\n",
      "{'messages': [{'role': 'system', 'content': 'You are a helpful and informative AI Assistant.'}, {'role': 'user', 'content': 'What is Edge Computing?'}, {'role': 'assistant', 'content': ' Edge Computing involves processing data near the data source rather than in a centralized data-processing warehouse, to reduce latency and bandwidth use. '}]}\n",
      "{'messages': [{'role': 'system', 'content': 'You are a helpful and informative AI Assistant.'}, {'role': 'user', 'content': 'What is Quantum Computing?'}, {'role': 'assistant', 'content': ' Quantum Computing uses principles of quantum mechanics to perform computations more efficiently than traditional computers in certain tasks. '}]}\n",
      "{'messages': [{'role': 'system', 'content': 'You are a helpful and informative AI Assistant.'}, {'role': 'user', 'content': 'What is Augmented Reality (AR)?'}, {'role': 'assistant', 'content': \" Augmented Reality (AR) overlays digital information on the real world, enhancing the user's perception of their environment. \"}]}\n"
     ]
    }
   ],
   "source": [
    "import json\n",
    "\n",
    "with open('tech_store_data.jsonl', 'r') as f:\n",
    "    for line in f:\n",
    "        data = json.loads(line)\n",
    "        print(data)  # Imprime cada objeto JSON\n"
   ]
  },
  {
   "cell_type": "code",
   "execution_count": 130,
   "id": "399883b2",
   "metadata": {
    "scrolled": false
   },
   "outputs": [
    {
     "name": "stdout",
     "output_type": "stream",
     "text": [
      "File ID: file-cCm7ekyzlAfYJpjCoK7rU17F\n",
      "Fine-tune ID: ftjob-2qq4o8zC1OIB9WLb0SvsVX1U\n",
      "FineTuningJob(id='ftjob-2qq4o8zC1OIB9WLb0SvsVX1U', created_at=1721120950, error=Error(code=None, message=None, param=None), fine_tuned_model=None, finished_at=None, hyperparameters=Hyperparameters(n_epochs='auto', batch_size='auto', learning_rate_multiplier='auto'), model='gpt-3.5-turbo-0125', object='fine_tuning.job', organization_id='org-YV9YThhWGNIx9foKRAXqO9N0', result_files=[], seed=1674984278, status='validating_files', trained_tokens=None, training_file='file-cCm7ekyzlAfYJpjCoK7rU17F', validation_file=None, estimated_finish=None, integrations=[], user_provided_suffix=None)\n",
      "Status: validating_files\n",
      "FineTuningJob(id='ftjob-2qq4o8zC1OIB9WLb0SvsVX1U', created_at=1721120950, error=Error(code=None, message=None, param=None), fine_tuned_model=None, finished_at=None, hyperparameters=Hyperparameters(n_epochs=5, batch_size=1, learning_rate_multiplier=2), model='gpt-3.5-turbo-0125', object='fine_tuning.job', organization_id='org-YV9YThhWGNIx9foKRAXqO9N0', result_files=[], seed=1674984278, status='running', trained_tokens=None, training_file='file-cCm7ekyzlAfYJpjCoK7rU17F', validation_file=None, estimated_finish=None, integrations=[], user_provided_suffix=None)\n",
      "Status: running\n",
      "FineTuningJob(id='ftjob-2qq4o8zC1OIB9WLb0SvsVX1U', created_at=1721120950, error=Error(code=None, message=None, param=None), fine_tuned_model=None, finished_at=None, hyperparameters=Hyperparameters(n_epochs=5, batch_size=1, learning_rate_multiplier=2), model='gpt-3.5-turbo-0125', object='fine_tuning.job', organization_id='org-YV9YThhWGNIx9foKRAXqO9N0', result_files=[], seed=1674984278, status='running', trained_tokens=None, training_file='file-cCm7ekyzlAfYJpjCoK7rU17F', validation_file=None, estimated_finish=None, integrations=[], user_provided_suffix=None)\n",
      "Status: running\n",
      "FineTuningJob(id='ftjob-2qq4o8zC1OIB9WLb0SvsVX1U', created_at=1721120950, error=Error(code=None, message=None, param=None), fine_tuned_model=None, finished_at=None, hyperparameters=Hyperparameters(n_epochs=5, batch_size=1, learning_rate_multiplier=2), model='gpt-3.5-turbo-0125', object='fine_tuning.job', organization_id='org-YV9YThhWGNIx9foKRAXqO9N0', result_files=[], seed=1674984278, status='running', trained_tokens=None, training_file='file-cCm7ekyzlAfYJpjCoK7rU17F', validation_file=None, estimated_finish=None, integrations=[], user_provided_suffix=None)\n",
      "Status: running\n",
      "FineTuningJob(id='ftjob-2qq4o8zC1OIB9WLb0SvsVX1U', created_at=1721120950, error=Error(code=None, message=None, param=None), fine_tuned_model=None, finished_at=None, hyperparameters=Hyperparameters(n_epochs=5, batch_size=1, learning_rate_multiplier=2), model='gpt-3.5-turbo-0125', object='fine_tuning.job', organization_id='org-YV9YThhWGNIx9foKRAXqO9N0', result_files=[], seed=1674984278, status='running', trained_tokens=None, training_file='file-cCm7ekyzlAfYJpjCoK7rU17F', validation_file=None, estimated_finish=1721121392, integrations=[], user_provided_suffix=None)\n",
      "Status: running\n",
      "FineTuningJob(id='ftjob-2qq4o8zC1OIB9WLb0SvsVX1U', created_at=1721120950, error=Error(code=None, message=None, param=None), fine_tuned_model=None, finished_at=None, hyperparameters=Hyperparameters(n_epochs=5, batch_size=1, learning_rate_multiplier=2), model='gpt-3.5-turbo-0125', object='fine_tuning.job', organization_id='org-YV9YThhWGNIx9foKRAXqO9N0', result_files=[], seed=1674984278, status='running', trained_tokens=None, training_file='file-cCm7ekyzlAfYJpjCoK7rU17F', validation_file=None, estimated_finish=1721121395, integrations=[], user_provided_suffix=None)\n",
      "Status: running\n",
      "FineTuningJob(id='ftjob-2qq4o8zC1OIB9WLb0SvsVX1U', created_at=1721120950, error=Error(code=None, message=None, param=None), fine_tuned_model=None, finished_at=None, hyperparameters=Hyperparameters(n_epochs=5, batch_size=1, learning_rate_multiplier=2), model='gpt-3.5-turbo-0125', object='fine_tuning.job', organization_id='org-YV9YThhWGNIx9foKRAXqO9N0', result_files=[], seed=1674984278, status='running', trained_tokens=None, training_file='file-cCm7ekyzlAfYJpjCoK7rU17F', validation_file=None, estimated_finish=1721121383, integrations=[], user_provided_suffix=None)\n",
      "Status: running\n",
      "FineTuningJob(id='ftjob-2qq4o8zC1OIB9WLb0SvsVX1U', created_at=1721120950, error=Error(code=None, message=None, param=None), fine_tuned_model=None, finished_at=None, hyperparameters=Hyperparameters(n_epochs=5, batch_size=1, learning_rate_multiplier=2), model='gpt-3.5-turbo-0125', object='fine_tuning.job', organization_id='org-YV9YThhWGNIx9foKRAXqO9N0', result_files=[], seed=1674984278, status='running', trained_tokens=None, training_file='file-cCm7ekyzlAfYJpjCoK7rU17F', validation_file=None, estimated_finish=None, integrations=[], user_provided_suffix=None)\n",
      "Status: running\n",
      "FineTuningJob(id='ftjob-2qq4o8zC1OIB9WLb0SvsVX1U', created_at=1721120950, error=Error(code=None, message=None, param=None), fine_tuned_model='ft:gpt-3.5-turbo-0125:personal::9lYa9cZI', finished_at=1721121376, hyperparameters=Hyperparameters(n_epochs=5, batch_size=1, learning_rate_multiplier=2), model='gpt-3.5-turbo-0125', object='fine_tuning.job', organization_id='org-YV9YThhWGNIx9foKRAXqO9N0', result_files=['file-z3x1s1FTtXvF9xnwIAOsb1DP'], seed=1674984278, status='succeeded', trained_tokens=5430, training_file='file-cCm7ekyzlAfYJpjCoK7rU17F', validation_file=None, estimated_finish=None, integrations=[], user_provided_suffix=None)\n",
      "Status: succeeded\n",
      "Fine-tuned model: ft:gpt-3.5-turbo-0125:personal::9lYa9cZI\n",
      "Chatbot: Web Development refers to the creation and maintenance of websites and web applications. This includes tasks such as web design, front-end and back-end development, and search engine optimization (SEO).\n",
      "Chatbot: BI Consulting involves helping organizations make informed decisions by analyzing data and creating actionable insights through business intelligence tools and methodologies.\n"
     ]
    }
   ],
   "source": [
    "import openai\n",
    "from openai import OpenAI\n",
    "\n",
    "# Configura tu clave API\n",
    "client = OpenAI(api_key='sk-proj-UOmJdpIwXWDbJ6jFnTmxT3BlbkFJQEtA6k3mT83SA5bRMCgp')\n",
    "\n",
    "# Lee y sube el archivo\n",
    "with open(\"tech_store_data.jsonl\", 'rb') as f:\n",
    "    file_response = client.files.create(file=f, purpose='fine-tune')\n",
    "\n",
    "file_id = file_response.id\n",
    "print(f\"File ID: {file_id}\")\n",
    "\n",
    "# Crear el trabajo de fine-tuning\n",
    "fine_tune_response = client.fine_tuning.jobs.create(training_file=file_id, model=\"gpt-3.5-turbo\")\n",
    "fine_tune_id = fine_tune_response.id\n",
    "print(f\"Fine-tune ID: {fine_tune_id}\")\n",
    "\n",
    "# Monitorizar el proceso de fine-tuning\n",
    "import time\n",
    "\n",
    "while True:\n",
    "    status_response = client.fine_tuning.jobs.retrieve(fine_tune_id)\n",
    "    print(status_response)\n",
    "    status = status_response.status\n",
    "    print(f\"Status: {status}\")\n",
    "\n",
    "    if status == 'succeeded':\n",
    "        fine_tuned_model = status_response.fine_tuned_model\n",
    "        print(f\"Fine-tuned model: {fine_tuned_model}\")\n",
    "        break\n",
    "    elif status == 'failed':\n",
    "        print(\"Fine-tuning failed.\")\n",
    "        break\n",
    "    time.sleep(60)\n",
    "\n",
    "# Usar el modelo ajustado\n",
    "if fine_tuned_model: \n",
    "    def get_response_from_openai(prompt):\n",
    "        response = client.chat.completions.create(  # 4 espacios de indentación\n",
    "            model=fine_tuned_model,\n",
    "            messages=[{\"role\": \"user\", \"content\": prompt}]\n",
    "        )\n",
    "        return response.choices[0].message.content.strip()\n",
    "\n",
    "    prompt = \"What is Web Development?\"\n",
    "    response = get_response_from_openai(prompt)\n",
    "    print(f\"Chatbot: {response}\")\n",
    "\n",
    "    prompt = \"What is BI Consulting?\"\n",
    "    response = get_response_from_openai(prompt)\n",
    "    print(f\"Chatbot: {response}\")\n"
   ]
  },
  {
   "cell_type": "code",
   "execution_count": null,
   "id": "9c6e85be",
   "metadata": {},
   "outputs": [],
   "source": []
  },
  {
   "cell_type": "code",
   "execution_count": null,
   "id": "f04bbc9f",
   "metadata": {},
   "outputs": [],
   "source": []
  },
  {
   "cell_type": "code",
   "execution_count": null,
   "id": "22ed065d",
   "metadata": {},
   "outputs": [],
   "source": []
  },
  {
   "cell_type": "code",
   "execution_count": null,
   "id": "cdb4006c",
   "metadata": {},
   "outputs": [],
   "source": []
  },
  {
   "cell_type": "code",
   "execution_count": null,
   "id": "b0b5d55b",
   "metadata": {},
   "outputs": [],
   "source": []
  },
  {
   "cell_type": "code",
   "execution_count": null,
   "id": "bc3c0e78",
   "metadata": {},
   "outputs": [],
   "source": []
  }
 ],
 "metadata": {
  "kernelspec": {
   "display_name": "Python 3 (ipykernel)",
   "language": "python",
   "name": "python3"
  },
  "language_info": {
   "codemirror_mode": {
    "name": "ipython",
    "version": 3
   },
   "file_extension": ".py",
   "mimetype": "text/x-python",
   "name": "python",
   "nbconvert_exporter": "python",
   "pygments_lexer": "ipython3",
   "version": "3.11.5"
  }
 },
 "nbformat": 4,
 "nbformat_minor": 5
}
